{
 "cells": [
  {
   "cell_type": "markdown",
   "metadata": {},
   "source": [
    "1.  \n",
    " \n",
    "Install Jupyter notebook and run the first program and share the screenshot of the output.  \n",
    " "
   ]
  },
  {
   "attachments": {
    "Install%20Jupyter%20notebook%20and%20run%20the%20first%20program%20and%20share%20the%20screenshot%20of%20the%20output..PNG": {
     "image/png": "[encoded data removed]"
    }
   },
   "cell_type": "markdown",
   "metadata": {},
   "source": [
    "![Install%20Jupyter%20notebook%20and%20run%20the%20first%20program%20and%20share%20the%20screenshot%20of%20the%20output..PNG](attachment:Install%20Jupyter%20notebook%20and%20run%20the%20first%20program%20and%20share%20the%20screenshot%20of%20the%20output..PNG)"
   ]
  },
  {
   "cell_type": "markdown",
   "metadata": {},
   "source": [
    "2.  \n",
    " \n",
    "Write a program which will find all such numbers which are divisible by 7 but are not a multiple of 5, between 2000 and 3200 (both included). The numbers obtained should be printed in a comma-separated sequence on a single line. \n",
    " \n",
    " "
   ]
  },
  {
   "cell_type": "code",
   "execution_count": 8,
   "metadata": {},
   "outputs": [
    {
     "name": "stdout",
     "output_type": "stream",
     "text": [
      "2002,2009,2016,2023,2037,2044,2051,2058,2072,2079,2086,2093,2107,2114,2121,2128,2142,2149,2156,2163,2177,2184,2191,2198,2212,2219,2226,2233,2247,2254,2261,2268,2282,2289,2296,2303,2317,2324,2331,2338,2352,2359,2366,2373,2387,2394,2401,2408,2422,2429,2436,2443,2457,2464,2471,2478,2492,2499,2506,2513,2527,2534,2541,2548,2562,2569,2576,2583,2597,2604,2611,2618,2632,2639,2646,2653,2667,2674,2681,2688,2702,2709,2716,2723,2737,2744,2751,2758,2772,2779,2786,2793,2807,2814,2821,2828,2842,2849,2856,2863,2877,2884,2891,2898,2912,2919,2926,2933,2947,2954,2961,2968,2982,2989,2996,"
     ]
    }
   ],
   "source": [
    "for i in range(2000,3001):\n",
    "    if (i%7==0) and( i%5!=0):\n",
    "        print(i, end =\",\")"
   ]
  },
  {
   "cell_type": "markdown",
   "metadata": {},
   "source": [
    "3.  \n",
    " \n",
    "Write a Python program to accept the user's first and last name and then getting them printed in the the reverse order with a space between first name and last name. \n",
    " "
   ]
  },
  {
   "cell_type": "code",
   "execution_count": 11,
   "metadata": {},
   "outputs": [
    {
     "name": "stdout",
     "output_type": "stream",
     "text": [
      "enter first name : Hemant\n",
      "enter the last name : Sharma\n",
      "tnameH amrahS\n"
     ]
    }
   ],
   "source": [
    "first_name = input(\"enter first name : \")\n",
    "last_name = input(\"enter the last name : \")\n",
    "print(first_name[::-1]+' '+last_name[::-1])"
   ]
  },
  {
   "cell_type": "markdown",
   "metadata": {},
   "source": [
    "4.  \n",
    " \n",
    "Write a Python program to find the volume of a sphere with diameter 12 cm.  \n",
    " \n",
    "Formula: V=4/3 * π * r 3 "
   ]
  },
  {
   "cell_type": "code",
   "execution_count": 16,
   "metadata": {},
   "outputs": [
    {
     "name": "stdout",
     "output_type": "stream",
     "text": [
      "volume :  904.3199999999999 cubic cm\n"
     ]
    }
   ],
   "source": [
    "Diameter = 12\n",
    "Volume = (4/3)*3.14*(Diameter/2)**3\n",
    "print(\"volume : \",Volume,'cubic cm')"
   ]
  },
  {
   "cell_type": "markdown",
   "metadata": {},
   "source": [
    "# Task 2:  \n",
    " "
   ]
  },
  {
   "cell_type": "markdown",
   "metadata": {},
   "source": [
    "1.  \n",
    " \n",
    "Write a program which accepts a sequence of comma-separated numbers from console and generate a list. \n",
    " \n",
    " "
   ]
  },
  {
   "cell_type": "code",
   "execution_count": 22,
   "metadata": {},
   "outputs": [
    {
     "name": "stdout",
     "output_type": "stream",
     "text": [
      "enter the numbers with comma sepeartion8,2,4,5,7,43,56,7,8,5,3,2,4\n",
      "[8, 2, 4, 5, 7, 43, 56, 7, 8, 5, 3, 2, 4]\n"
     ]
    }
   ],
   "source": [
    "list1 =[]\n",
    "Numbers = input(\"enter the numbers with comma sepeartion\")\n",
    "Numbers = Numbers.split(\",\")\n",
    "for i in Numbers:\n",
    "    list1.append(int(i))\n",
    "print(list1)"
   ]
  },
  {
   "cell_type": "raw",
   "metadata": {},
   "source": [
    "2.  \n",
    " \n",
    "Create the below pattern using nested for loop in Python. \n",
    " \n",
    " \n",
    "* \n",
    "* * \n",
    "* * *\n",
    "* * * *\n",
    "* * * * *\n",
    "* * * *\n",
    "* * *\n",
    "* *\n",
    "* "
   ]
  },
  {
   "cell_type": "code",
   "execution_count": 24,
   "metadata": {},
   "outputs": [
    {
     "name": "stdout",
     "output_type": "stream",
     "text": [
      "enter the number5\n"
     ]
    }
   ],
   "source": [
    "n = int(input(\"enter the number\"))"
   ]
  },
  {
   "cell_type": "code",
   "execution_count": 40,
   "metadata": {},
   "outputs": [
    {
     "name": "stdout",
     "output_type": "stream",
     "text": [
      "* \n",
      "* * \n",
      "* * * \n",
      "* * * * \n",
      "* * * * * \n",
      "* * * * \n",
      "* * * \n",
      "* * \n",
      "* \n",
      "\n"
     ]
    }
   ],
   "source": [
    "for i in range(1,n+1):\n",
    "    print(i*\"* \")\n",
    "for i in range(1,n+1):\n",
    "    print((n-i)*\"* \")\n"
   ]
  },
  {
   "cell_type": "markdown",
   "metadata": {},
   "source": [
    "3.  \n",
    " \n",
    "Write a Python program to reverse a word after accepting the input from the user. \n",
    " \n",
    "Sample Output: \n",
    " \n",
    "Input word: AcadGild \n",
    " \n",
    "Output: dilGdacA "
   ]
  },
  {
   "cell_type": "code",
   "execution_count": 41,
   "metadata": {},
   "outputs": [
    {
     "name": "stdout",
     "output_type": "stream",
     "text": [
      "enetr the wordAcadGild\n",
      "dliGdacA\n"
     ]
    }
   ],
   "source": [
    "word = input(\"enetr the word\")\n",
    "print(word[::-1])"
   ]
  },
  {
   "cell_type": "markdown",
   "metadata": {},
   "source": [
    "Write a Python Program to print the given string in the format specified in the ​sample output. \n",
    " WE, THE PEOPLE OF INDIA, having solemnly resolved to constitute India into a SOVEREIGN, SOCIALIST, SECULAR, DEMOCRATIC REPUBLIC and to secure to all its citizens \n",
    " \n",
    " \n",
    " \n",
    " "
   ]
  },
  {
   "cell_type": "code",
   "execution_count": 99,
   "metadata": {},
   "outputs": [],
   "source": [
    "a = \"WE, THE PEOPLE OF INDIA, having solemnly resolved to constitute India into a SOVEREIGN, SOCIALIST, SECULAR, DEMOCRATIC REPUBLIC and to secure to all its citizens\""
   ]
  },
  {
   "cell_type": "code",
   "execution_count": 134,
   "metadata": {},
   "outputs": [
    {
     "name": "stdout",
     "output_type": "stream",
     "text": [
      "WE, THE PEOPLE OF INDIA, \n",
      "\n",
      "having solemnly resolved to constitute India into a SOVEREIGN, !\n",
      "\n",
      " SOCIALIST, SECULAR, DEMOCRATIC REPUBLIC \n",
      "\n",
      " and to secure to all its citizens\n"
     ]
    }
   ],
   "source": [
    "for i in a:\n",
    "    if i.islower() == True:\n",
    "        print(\"\\n\")\n",
    "        q = a.index(i)\n",
    "        break\n",
    "    else:\n",
    "        print(i,end='')\n",
    "\n",
    "for i in a[q:]:\n",
    "    if i == ',':\n",
    "        print(\", !\\n\")\n",
    "        r = a[q:].index(i)+q\n",
    "        break\n",
    "    else:\n",
    "        print(i,end='')\n",
    "    \n",
    "for i in a[r+1:]:\n",
    "    if i.islower() == True:\n",
    "        print(\"\\n\")\n",
    "        s = a[r+1:].index(i)+r\n",
    "        break\n",
    "    else:\n",
    "        print(i,end='')\n",
    "print(a[s:])\n",
    "    "
   ]
  },
  {
   "cell_type": "code",
   "execution_count": null,
   "metadata": {},
   "outputs": [],
   "source": []
  },
  {
   "cell_type": "code",
   "execution_count": null,
   "metadata": {},
   "outputs": [],
   "source": []
  }
 ],
 "metadata": {
  "kernelspec": {
   "display_name": "Python 3",
   "language": "python",
   "name": "python3"
  },
  "language_info": {
   "codemirror_mode": {
    "name": "ipython",
    "version": 3
   },
   "file_extension": ".py",
   "mimetype": "text/x-python",
   "name": "python",
   "nbconvert_exporter": "python",
   "pygments_lexer": "ipython3",
   "version": "3.7.4"
  }
 },
 "nbformat": 4,
 "nbformat_minor": 2
}
